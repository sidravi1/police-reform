{
 "cells": [
  {
   "cell_type": "code",
   "execution_count": 21,
   "metadata": {},
   "outputs": [
    {
     "data": {
      "application/javascript": [
       "\n",
       "            setTimeout(function() {\n",
       "                var nbb_cell_id = 21;\n",
       "                var nbb_unformatted_code = \"%load_ext nb_black\";\n",
       "                var nbb_formatted_code = \"%load_ext nb_black\";\n",
       "                var nbb_cells = Jupyter.notebook.get_cells();\n",
       "                for (var i = 0; i < nbb_cells.length; ++i) {\n",
       "                    if (nbb_cells[i].input_prompt_number == nbb_cell_id) {\n",
       "                        if (nbb_cells[i].get_text() == nbb_unformatted_code) {\n",
       "                             nbb_cells[i].set_text(nbb_formatted_code);\n",
       "                        }\n",
       "                        break;\n",
       "                    }\n",
       "                }\n",
       "            }, 500);\n",
       "            "
      ],
      "text/plain": [
       "<IPython.core.display.Javascript object>"
      ]
     },
     "metadata": {},
     "output_type": "display_data"
    }
   ],
   "source": [
    "%load_ext nb_black"
   ]
  },
  {
   "cell_type": "code",
   "execution_count": 65,
   "metadata": {},
   "outputs": [
    {
     "data": {
      "application/javascript": [
       "\n",
       "            setTimeout(function() {\n",
       "                var nbb_cell_id = 65;\n",
       "                var nbb_unformatted_code = \"import pymc3 as pm\\nimport theano.tensor as tt\\nimport numpy as np\\nimport matplotlib.pyplot as plt\\nimport seaborn as sns\\n\\nimport pandas as pdb\\n\\nfrom plotnine import *\";\n",
       "                var nbb_formatted_code = \"import pymc3 as pm\\nimport theano.tensor as tt\\nimport numpy as np\\nimport matplotlib.pyplot as plt\\nimport seaborn as sns\\n\\nimport pandas as pdb\\n\\nfrom plotnine import *\";\n",
       "                var nbb_cells = Jupyter.notebook.get_cells();\n",
       "                for (var i = 0; i < nbb_cells.length; ++i) {\n",
       "                    if (nbb_cells[i].input_prompt_number == nbb_cell_id) {\n",
       "                        if (nbb_cells[i].get_text() == nbb_unformatted_code) {\n",
       "                             nbb_cells[i].set_text(nbb_formatted_code);\n",
       "                        }\n",
       "                        break;\n",
       "                    }\n",
       "                }\n",
       "            }, 500);\n",
       "            "
      ],
      "text/plain": [
       "<IPython.core.display.Javascript object>"
      ]
     },
     "metadata": {},
     "output_type": "display_data"
    }
   ],
   "source": [
    "import pymc3 as pm\n",
    "import theano.tensor as tt\n",
    "import numpy as np\n",
    "import matplotlib.pyplot as plt\n",
    "import seaborn as sns\n",
    "\n",
    "import pandas as pdb\n",
    "\n",
    "from plotnine import *"
   ]
  },
  {
   "cell_type": "code",
   "execution_count": 23,
   "metadata": {},
   "outputs": [
    {
     "data": {
      "text/html": [
       "<div>\n",
       "<style scoped>\n",
       "    .dataframe tbody tr th:only-of-type {\n",
       "        vertical-align: middle;\n",
       "    }\n",
       "\n",
       "    .dataframe tbody tr th {\n",
       "        vertical-align: top;\n",
       "    }\n",
       "\n",
       "    .dataframe thead th {\n",
       "        text-align: right;\n",
       "    }\n",
       "</style>\n",
       "<table border=\"1\" class=\"dataframe\">\n",
       "  <thead>\n",
       "    <tr style=\"text-align: right;\">\n",
       "      <th></th>\n",
       "      <th>policy</th>\n",
       "      <th>existing adherents</th>\n",
       "      <th>n</th>\n",
       "      <th>reduction</th>\n",
       "    </tr>\n",
       "  </thead>\n",
       "  <tbody>\n",
       "    <tr>\n",
       "      <th>0</th>\n",
       "      <td>require deescalation</td>\n",
       "      <td>34</td>\n",
       "      <td>91</td>\n",
       "      <td>0.15</td>\n",
       "    </tr>\n",
       "    <tr>\n",
       "      <th>1</th>\n",
       "      <td>use force continuum or matrix</td>\n",
       "      <td>77</td>\n",
       "      <td>91</td>\n",
       "      <td>0.19</td>\n",
       "    </tr>\n",
       "    <tr>\n",
       "      <th>2</th>\n",
       "      <td>restrict holds</td>\n",
       "      <td>21</td>\n",
       "      <td>91</td>\n",
       "      <td>0.22</td>\n",
       "    </tr>\n",
       "    <tr>\n",
       "      <th>3</th>\n",
       "      <td>require warning</td>\n",
       "      <td>56</td>\n",
       "      <td>91</td>\n",
       "      <td>0.05</td>\n",
       "    </tr>\n",
       "    <tr>\n",
       "      <th>4</th>\n",
       "      <td>prohibit shooting at moving vehicles</td>\n",
       "      <td>19</td>\n",
       "      <td>91</td>\n",
       "      <td>0.08</td>\n",
       "    </tr>\n",
       "  </tbody>\n",
       "</table>\n",
       "</div>"
      ],
      "text/plain": [
       "                                 policy  existing adherents   n  reduction\n",
       "0                  require deescalation                  34  91       0.15\n",
       "1         use force continuum or matrix                  77  91       0.19\n",
       "2                        restrict holds                  21  91       0.22\n",
       "3                       require warning                  56  91       0.05\n",
       "4  prohibit shooting at moving vehicles                  19  91       0.08"
      ]
     },
     "execution_count": 23,
     "metadata": {},
     "output_type": "execute_result"
    },
    {
     "data": {
      "application/javascript": [
       "\n",
       "            setTimeout(function() {\n",
       "                var nbb_cell_id = 23;\n",
       "                var nbb_unformatted_code = \"policies = pd.read_csv(\\\"../cantwait_data.csv\\\")\\npolicies.head()\";\n",
       "                var nbb_formatted_code = \"policies = pd.read_csv(\\\"../cantwait_data.csv\\\")\\npolicies.head()\";\n",
       "                var nbb_cells = Jupyter.notebook.get_cells();\n",
       "                for (var i = 0; i < nbb_cells.length; ++i) {\n",
       "                    if (nbb_cells[i].input_prompt_number == nbb_cell_id) {\n",
       "                        if (nbb_cells[i].get_text() == nbb_unformatted_code) {\n",
       "                             nbb_cells[i].set_text(nbb_formatted_code);\n",
       "                        }\n",
       "                        break;\n",
       "                    }\n",
       "                }\n",
       "            }, 500);\n",
       "            "
      ],
      "text/plain": [
       "<IPython.core.display.Javascript object>"
      ]
     },
     "metadata": {},
     "output_type": "display_data"
    }
   ],
   "source": [
    "policies = pd.read_csv(\"../cantwait_data.csv\")\n",
    "policies.head()"
   ]
  },
  {
   "cell_type": "code",
   "execution_count": 26,
   "metadata": {},
   "outputs": [
    {
     "data": {
      "application/javascript": [
       "\n",
       "            setTimeout(function() {\n",
       "                var nbb_cell_id = 26;\n",
       "                var nbb_unformatted_code = \"name_map = {'St. Paul':'St Paul',\\n'Saint Paul':'St Paul',\\n'St. Petersburg':'St Petersburg',\\n'Saint Petersburg':'St Petersburg',\\n'St. Louis':'St Louis',\\n'Saint Louis':'St Louis'}\";\n",
       "                var nbb_formatted_code = \"name_map = {\\n    \\\"St. Paul\\\": \\\"St Paul\\\",\\n    \\\"Saint Paul\\\": \\\"St Paul\\\",\\n    \\\"St. Petersburg\\\": \\\"St Petersburg\\\",\\n    \\\"Saint Petersburg\\\": \\\"St Petersburg\\\",\\n    \\\"St. Louis\\\": \\\"St Louis\\\",\\n    \\\"Saint Louis\\\": \\\"St Louis\\\",\\n}\";\n",
       "                var nbb_cells = Jupyter.notebook.get_cells();\n",
       "                for (var i = 0; i < nbb_cells.length; ++i) {\n",
       "                    if (nbb_cells[i].input_prompt_number == nbb_cell_id) {\n",
       "                        if (nbb_cells[i].get_text() == nbb_unformatted_code) {\n",
       "                             nbb_cells[i].set_text(nbb_formatted_code);\n",
       "                        }\n",
       "                        break;\n",
       "                    }\n",
       "                }\n",
       "            }, 500);\n",
       "            "
      ],
      "text/plain": [
       "<IPython.core.display.Javascript object>"
      ]
     },
     "metadata": {},
     "output_type": "display_data"
    }
   ],
   "source": [
    "name_map = {'St. Paul':'St Paul',\n",
    "            'Saint Paul':'St Paul',\n",
    "            'St. Petersburg':'St Petersburg',\n",
    "            'Saint Petersburg':'St Petersburg',\n",
    "            'St. Louis':'St Louis',\n",
    "            'Saint Louis':'St Louis'}"
   ]
  },
  {
   "cell_type": "code",
   "execution_count": 28,
   "metadata": {},
   "outputs": [
    {
     "data": {
      "application/javascript": [
       "\n",
       "            setTimeout(function() {\n",
       "                var nbb_cell_id = 28;\n",
       "                var nbb_unformatted_code = \"city_state_only = {'Arlington':'TX',\\n                    'Aurora':'CO',\\n                'Austin' :'TX',\\n                'Aurora' :'CO',\\n                'Boston' :'MA',\\n                'Buffalo' :'NY',\\n                'Cleveland' :'OH',\\n                'Columbus' :'OH',\\n                'Dallas' :'TX',\\n                'Durham' :'NC',\\n                'Glendale' :'AZ',\\n                'Greensboro' :'NC',\\n                'Henderson' :'NV',\\n                'Houston' :'TX',\\n                'Jacksonville' :'FL',\\n                'Kansas City' :'MO',\\n                'Las Vegas' :'NV',\\n                'Lexington' :'KY',\\n                'Lincoln' :'NE',\\n                'Louisville' :'KY',\\n                'Madison' :'WI',\\n                'Mesa' :'AZ',\\n                'Miami' :'FL',\\n                'Nashville' :'TN',\\n                'Newark' :'NJ',\\n                'Norfolk' :'VA',\\n                'Orlando' :'FL',\\n                'Phoenix' :'AZ',\\n                'Portland' :'OR',\\n                'Reno' :'NV',\\n                'Rochester' :'NY',\\n                'Stockton' :'CA'\\n                  }\";\n",
       "                var nbb_formatted_code = \"city_state_only = {\\n    \\\"Arlington\\\": \\\"TX\\\",\\n    \\\"Aurora\\\": \\\"CO\\\",\\n    \\\"Austin\\\": \\\"TX\\\",\\n    \\\"Aurora\\\": \\\"CO\\\",\\n    \\\"Boston\\\": \\\"MA\\\",\\n    \\\"Buffalo\\\": \\\"NY\\\",\\n    \\\"Cleveland\\\": \\\"OH\\\",\\n    \\\"Columbus\\\": \\\"OH\\\",\\n    \\\"Dallas\\\": \\\"TX\\\",\\n    \\\"Durham\\\": \\\"NC\\\",\\n    \\\"Glendale\\\": \\\"AZ\\\",\\n    \\\"Greensboro\\\": \\\"NC\\\",\\n    \\\"Henderson\\\": \\\"NV\\\",\\n    \\\"Houston\\\": \\\"TX\\\",\\n    \\\"Jacksonville\\\": \\\"FL\\\",\\n    \\\"Kansas City\\\": \\\"MO\\\",\\n    \\\"Las Vegas\\\": \\\"NV\\\",\\n    \\\"Lexington\\\": \\\"KY\\\",\\n    \\\"Lincoln\\\": \\\"NE\\\",\\n    \\\"Louisville\\\": \\\"KY\\\",\\n    \\\"Madison\\\": \\\"WI\\\",\\n    \\\"Mesa\\\": \\\"AZ\\\",\\n    \\\"Miami\\\": \\\"FL\\\",\\n    \\\"Nashville\\\": \\\"TN\\\",\\n    \\\"Newark\\\": \\\"NJ\\\",\\n    \\\"Norfolk\\\": \\\"VA\\\",\\n    \\\"Orlando\\\": \\\"FL\\\",\\n    \\\"Phoenix\\\": \\\"AZ\\\",\\n    \\\"Portland\\\": \\\"OR\\\",\\n    \\\"Reno\\\": \\\"NV\\\",\\n    \\\"Rochester\\\": \\\"NY\\\",\\n    \\\"Stockton\\\": \\\"CA\\\",\\n}\";\n",
       "                var nbb_cells = Jupyter.notebook.get_cells();\n",
       "                for (var i = 0; i < nbb_cells.length; ++i) {\n",
       "                    if (nbb_cells[i].input_prompt_number == nbb_cell_id) {\n",
       "                        if (nbb_cells[i].get_text() == nbb_unformatted_code) {\n",
       "                             nbb_cells[i].set_text(nbb_formatted_code);\n",
       "                        }\n",
       "                        break;\n",
       "                    }\n",
       "                }\n",
       "            }, 500);\n",
       "            "
      ],
      "text/plain": [
       "<IPython.core.display.Javascript object>"
      ]
     },
     "metadata": {},
     "output_type": "display_data"
    }
   ],
   "source": [
    "city_state_only = {'Arlington':'TX',\n",
    "                    'Aurora':'CO',\n",
    "                'Austin' :'TX',\n",
    "                'Aurora' :'CO',\n",
    "                'Boston' :'MA',\n",
    "                'Buffalo' :'NY',\n",
    "                'Cleveland' :'OH',\n",
    "                'Columbus' :'OH',\n",
    "                'Dallas' :'TX',\n",
    "                'Durham' :'NC',\n",
    "                'Glendale' :'AZ',\n",
    "                'Greensboro' :'NC',\n",
    "                'Henderson' :'NV',\n",
    "                'Houston' :'TX',\n",
    "                'Jacksonville' :'FL',\n",
    "                'Kansas City' :'MO',\n",
    "                'Las Vegas' :'NV',\n",
    "                'Lexington' :'KY',\n",
    "                'Lincoln' :'NE',\n",
    "                'Louisville' :'KY',\n",
    "                'Madison' :'WI',\n",
    "                'Mesa' :'AZ',\n",
    "                'Miami' :'FL',\n",
    "                'Nashville' :'TN',\n",
    "                'Newark' :'NJ',\n",
    "                'Norfolk' :'VA',\n",
    "                'Orlando' :'FL',\n",
    "                'Phoenix' :'AZ',\n",
    "                'Portland' :'OR',\n",
    "                'Reno' :'NV',\n",
    "                'Rochester' :'NY',\n",
    "                'Stockton' :'CA'\n",
    "                  }"
   ]
  },
  {
   "cell_type": "code",
   "execution_count": 58,
   "metadata": {},
   "outputs": [
    {
     "data": {
      "application/javascript": [
       "\n",
       "            setTimeout(function() {\n",
       "                var nbb_cell_id = 58;\n",
       "                var nbb_unformatted_code = \"deaths_raw = pd.read_csv(\\\"../MPV_data.csv\\\", dtype={'city':'str', 'state':'str'}, parse_dates  = ['date'])\\n\\ncityname_mask = deaths_raw.city.isin(name_map.keys())\\ndeaths_raw.loc[cityname_mask, 'city'] = deaths_raw.loc[cityname_mask, 'city'].map(name_map)\\n\\nfor city, state in city_state_only.items():\\n    deaths_raw.loc[(deaths_raw.city == city) & (deaths_raw.state == state), 'city'] = \\\"NA\\\"\";\n",
       "                var nbb_formatted_code = \"deaths_raw = pd.read_csv(\\n    \\\"../MPV_data.csv\\\", dtype={\\\"city\\\": \\\"str\\\", \\\"state\\\": \\\"str\\\"}, parse_dates=[\\\"date\\\"]\\n)\\n\\ncityname_mask = deaths_raw.city.isin(name_map.keys())\\ndeaths_raw.loc[cityname_mask, \\\"city\\\"] = deaths_raw.loc[cityname_mask, \\\"city\\\"].map(\\n    name_map\\n)\\n\\nfor city, state in city_state_only.items():\\n    deaths_raw.loc[\\n        (deaths_raw.city == city) & (deaths_raw.state == state), \\\"city\\\"\\n    ] = \\\"NA\\\"\";\n",
       "                var nbb_cells = Jupyter.notebook.get_cells();\n",
       "                for (var i = 0; i < nbb_cells.length; ++i) {\n",
       "                    if (nbb_cells[i].input_prompt_number == nbb_cell_id) {\n",
       "                        if (nbb_cells[i].get_text() == nbb_unformatted_code) {\n",
       "                             nbb_cells[i].set_text(nbb_formatted_code);\n",
       "                        }\n",
       "                        break;\n",
       "                    }\n",
       "                }\n",
       "            }, 500);\n",
       "            "
      ],
      "text/plain": [
       "<IPython.core.display.Javascript object>"
      ]
     },
     "metadata": {},
     "output_type": "display_data"
    }
   ],
   "source": [
    "deaths_raw = pd.read_csv(\"../MPV_data.csv\", dtype={'city':'str', 'state':'str'}, parse_dates  = ['date'])\n",
    "\n",
    "cityname_mask = deaths_raw.city.isin(name_map.keys())\n",
    "deaths_raw.loc[cityname_mask, 'city'] = deaths_raw.loc[cityname_mask, 'city'].map(name_map)\n",
    "\n",
    "for city, state in city_state_only.items():\n",
    "    deaths_raw.loc[(deaths_raw.city == city) & (deaths_raw.state == state), 'city'] = \"NA\""
   ]
  },
  {
   "cell_type": "code",
   "execution_count": 59,
   "metadata": {},
   "outputs": [
    {
     "data": {
      "text/html": [
       "<div>\n",
       "<style scoped>\n",
       "    .dataframe tbody tr th:only-of-type {\n",
       "        vertical-align: middle;\n",
       "    }\n",
       "\n",
       "    .dataframe tbody tr th {\n",
       "        vertical-align: top;\n",
       "    }\n",
       "\n",
       "    .dataframe thead th {\n",
       "        text-align: right;\n",
       "    }\n",
       "</style>\n",
       "<table border=\"1\" class=\"dataframe\">\n",
       "  <thead>\n",
       "    <tr style=\"text-align: right;\">\n",
       "      <th></th>\n",
       "      <th>state</th>\n",
       "      <th>num_deaths</th>\n",
       "      <th>pct_confirmed</th>\n",
       "      <th>pct_media</th>\n",
       "      <th>pct_survey</th>\n",
       "      <th>pop2010</th>\n",
       "    </tr>\n",
       "  </thead>\n",
       "  <tbody>\n",
       "    <tr>\n",
       "      <th>0</th>\n",
       "      <td>Alabama</td>\n",
       "      <td>7.0</td>\n",
       "      <td>85.7</td>\n",
       "      <td>100.0</td>\n",
       "      <td>0.0</td>\n",
       "      <td>4779736</td>\n",
       "    </tr>\n",
       "    <tr>\n",
       "      <th>1</th>\n",
       "      <td>Alaska</td>\n",
       "      <td>0.0</td>\n",
       "      <td>NaN</td>\n",
       "      <td>NaN</td>\n",
       "      <td>NaN</td>\n",
       "      <td>710231</td>\n",
       "    </tr>\n",
       "    <tr>\n",
       "      <th>2</th>\n",
       "      <td>Arkansas</td>\n",
       "      <td>1.0</td>\n",
       "      <td>100.0</td>\n",
       "      <td>100.0</td>\n",
       "      <td>0.0</td>\n",
       "      <td>2915918</td>\n",
       "    </tr>\n",
       "    <tr>\n",
       "      <th>3</th>\n",
       "      <td>Arizona</td>\n",
       "      <td>10.0</td>\n",
       "      <td>100.0</td>\n",
       "      <td>90.0</td>\n",
       "      <td>10.0</td>\n",
       "      <td>6392017</td>\n",
       "    </tr>\n",
       "    <tr>\n",
       "      <th>4</th>\n",
       "      <td>California</td>\n",
       "      <td>65.0</td>\n",
       "      <td>87.7</td>\n",
       "      <td>92.3</td>\n",
       "      <td>7.7</td>\n",
       "      <td>37253956</td>\n",
       "    </tr>\n",
       "  </tbody>\n",
       "</table>\n",
       "</div>"
      ],
      "text/plain": [
       "        state  num_deaths  pct_confirmed  pct_media  pct_survey   pop2010\n",
       "0     Alabama         7.0           85.7      100.0         0.0   4779736\n",
       "1      Alaska         0.0            NaN        NaN         NaN    710231\n",
       "2    Arkansas         1.0          100.0      100.0         0.0   2915918\n",
       "3     Arizona        10.0          100.0       90.0        10.0   6392017\n",
       "4  California        65.0           87.7       92.3         7.7  37253956"
      ]
     },
     "execution_count": 59,
     "metadata": {},
     "output_type": "execute_result"
    },
    {
     "data": {
      "application/javascript": [
       "\n",
       "            setTimeout(function() {\n",
       "                var nbb_cell_id = 59;\n",
       "                var nbb_unformatted_code = \"deaths_DOJ = pd.read_csv('../custody_deaths.csv')\\ndeaths_DOJ.head()\";\n",
       "                var nbb_formatted_code = \"deaths_DOJ = pd.read_csv(\\\"../custody_deaths.csv\\\")\\ndeaths_DOJ.head()\";\n",
       "                var nbb_cells = Jupyter.notebook.get_cells();\n",
       "                for (var i = 0; i < nbb_cells.length; ++i) {\n",
       "                    if (nbb_cells[i].input_prompt_number == nbb_cell_id) {\n",
       "                        if (nbb_cells[i].get_text() == nbb_unformatted_code) {\n",
       "                             nbb_cells[i].set_text(nbb_formatted_code);\n",
       "                        }\n",
       "                        break;\n",
       "                    }\n",
       "                }\n",
       "            }, 500);\n",
       "            "
      ],
      "text/plain": [
       "<IPython.core.display.Javascript object>"
      ]
     },
     "metadata": {},
     "output_type": "display_data"
    }
   ],
   "source": [
    "deaths_DOJ = pd.read_csv('../custody_deaths.csv')\n",
    "deaths_DOJ.head()"
   ]
  },
  {
   "cell_type": "code",
   "execution_count": 60,
   "metadata": {},
   "outputs": [
    {
     "data": {
      "text/html": [
       "<div>\n",
       "<style scoped>\n",
       "    .dataframe tbody tr th:only-of-type {\n",
       "        vertical-align: middle;\n",
       "    }\n",
       "\n",
       "    .dataframe tbody tr th {\n",
       "        vertical-align: top;\n",
       "    }\n",
       "\n",
       "    .dataframe thead th {\n",
       "        text-align: right;\n",
       "    }\n",
       "</style>\n",
       "<table border=\"1\" class=\"dataframe\">\n",
       "  <thead>\n",
       "    <tr style=\"text-align: right;\">\n",
       "      <th></th>\n",
       "      <th>city</th>\n",
       "      <th>state</th>\n",
       "      <th>pop2010</th>\n",
       "      <th>black_pop2010</th>\n",
       "      <th>white_pop2010</th>\n",
       "      <th>require deescalation</th>\n",
       "      <th>use force continuum or matrix</th>\n",
       "      <th>restrict holds</th>\n",
       "      <th>require warning</th>\n",
       "      <th>prohibit shooting at moving vehicles</th>\n",
       "      <th>require exhaustion of alternatives</th>\n",
       "      <th>require officer intervention</th>\n",
       "      <th>require reporting</th>\n",
       "      <th>deaths2016</th>\n",
       "    </tr>\n",
       "  </thead>\n",
       "  <tbody>\n",
       "    <tr>\n",
       "      <th>0</th>\n",
       "      <td>Albuquerque</td>\n",
       "      <td>New Mexico</td>\n",
       "      <td>545852</td>\n",
       "      <td>17933</td>\n",
       "      <td>380552</td>\n",
       "      <td>1</td>\n",
       "      <td>1</td>\n",
       "      <td>0</td>\n",
       "      <td>1</td>\n",
       "      <td>1</td>\n",
       "      <td>0</td>\n",
       "      <td>1</td>\n",
       "      <td>0</td>\n",
       "      <td>5</td>\n",
       "    </tr>\n",
       "    <tr>\n",
       "      <th>1</th>\n",
       "      <td>Anaheim</td>\n",
       "      <td>California</td>\n",
       "      <td>336265</td>\n",
       "      <td>9347</td>\n",
       "      <td>177237</td>\n",
       "      <td>0</td>\n",
       "      <td>1</td>\n",
       "      <td>0</td>\n",
       "      <td>1</td>\n",
       "      <td>0</td>\n",
       "      <td>0</td>\n",
       "      <td>1</td>\n",
       "      <td>0</td>\n",
       "      <td>6</td>\n",
       "    </tr>\n",
       "    <tr>\n",
       "      <th>2</th>\n",
       "      <td>Anchorage</td>\n",
       "      <td>Alaska</td>\n",
       "      <td>291826</td>\n",
       "      <td>16226</td>\n",
       "      <td>192498</td>\n",
       "      <td>1</td>\n",
       "      <td>1</td>\n",
       "      <td>0</td>\n",
       "      <td>0</td>\n",
       "      <td>1</td>\n",
       "      <td>0</td>\n",
       "      <td>0</td>\n",
       "      <td>0</td>\n",
       "      <td>3</td>\n",
       "    </tr>\n",
       "    <tr>\n",
       "      <th>3</th>\n",
       "      <td>Arlington</td>\n",
       "      <td>Texas</td>\n",
       "      <td>365438</td>\n",
       "      <td>68792</td>\n",
       "      <td>215588</td>\n",
       "      <td>1</td>\n",
       "      <td>1</td>\n",
       "      <td>0</td>\n",
       "      <td>0</td>\n",
       "      <td>1</td>\n",
       "      <td>1</td>\n",
       "      <td>0</td>\n",
       "      <td>1</td>\n",
       "      <td>3</td>\n",
       "    </tr>\n",
       "    <tr>\n",
       "      <th>4</th>\n",
       "      <td>Atlanta</td>\n",
       "      <td>Georgia</td>\n",
       "      <td>420003</td>\n",
       "      <td>226894</td>\n",
       "      <td>161115</td>\n",
       "      <td>0</td>\n",
       "      <td>1</td>\n",
       "      <td>1</td>\n",
       "      <td>0</td>\n",
       "      <td>0</td>\n",
       "      <td>0</td>\n",
       "      <td>0</td>\n",
       "      <td>0</td>\n",
       "      <td>4</td>\n",
       "    </tr>\n",
       "    <tr>\n",
       "      <th>...</th>\n",
       "      <td>...</td>\n",
       "      <td>...</td>\n",
       "      <td>...</td>\n",
       "      <td>...</td>\n",
       "      <td>...</td>\n",
       "      <td>...</td>\n",
       "      <td>...</td>\n",
       "      <td>...</td>\n",
       "      <td>...</td>\n",
       "      <td>...</td>\n",
       "      <td>...</td>\n",
       "      <td>...</td>\n",
       "      <td>...</td>\n",
       "      <td>...</td>\n",
       "    </tr>\n",
       "    <tr>\n",
       "      <th>85</th>\n",
       "      <td>Tucson</td>\n",
       "      <td>Arizona</td>\n",
       "      <td>520116</td>\n",
       "      <td>26000</td>\n",
       "      <td>362649</td>\n",
       "      <td>0</td>\n",
       "      <td>1</td>\n",
       "      <td>0</td>\n",
       "      <td>0</td>\n",
       "      <td>1</td>\n",
       "      <td>1</td>\n",
       "      <td>0</td>\n",
       "      <td>0</td>\n",
       "      <td>6</td>\n",
       "    </tr>\n",
       "    <tr>\n",
       "      <th>86</th>\n",
       "      <td>Tulsa</td>\n",
       "      <td>Oklahoma</td>\n",
       "      <td>391906</td>\n",
       "      <td>62164</td>\n",
       "      <td>245309</td>\n",
       "      <td>0</td>\n",
       "      <td>1</td>\n",
       "      <td>1</td>\n",
       "      <td>1</td>\n",
       "      <td>0</td>\n",
       "      <td>0</td>\n",
       "      <td>0</td>\n",
       "      <td>0</td>\n",
       "      <td>3</td>\n",
       "    </tr>\n",
       "    <tr>\n",
       "      <th>87</th>\n",
       "      <td>Virginia Beach</td>\n",
       "      <td>Virginia</td>\n",
       "      <td>437994</td>\n",
       "      <td>85935</td>\n",
       "      <td>296670</td>\n",
       "      <td>0</td>\n",
       "      <td>0</td>\n",
       "      <td>1</td>\n",
       "      <td>1</td>\n",
       "      <td>0</td>\n",
       "      <td>0</td>\n",
       "      <td>1</td>\n",
       "      <td>1</td>\n",
       "      <td>2</td>\n",
       "    </tr>\n",
       "    <tr>\n",
       "      <th>89</th>\n",
       "      <td>Wichita</td>\n",
       "      <td>Kansas</td>\n",
       "      <td>382368</td>\n",
       "      <td>43807</td>\n",
       "      <td>275080</td>\n",
       "      <td>0</td>\n",
       "      <td>1</td>\n",
       "      <td>0</td>\n",
       "      <td>1</td>\n",
       "      <td>0</td>\n",
       "      <td>0</td>\n",
       "      <td>0</td>\n",
       "      <td>1</td>\n",
       "      <td>2</td>\n",
       "    </tr>\n",
       "    <tr>\n",
       "      <th>90</th>\n",
       "      <td>Winston-Salem</td>\n",
       "      <td>North Carolina</td>\n",
       "      <td>229617</td>\n",
       "      <td>79598</td>\n",
       "      <td>117600</td>\n",
       "      <td>1</td>\n",
       "      <td>1</td>\n",
       "      <td>0</td>\n",
       "      <td>1</td>\n",
       "      <td>0</td>\n",
       "      <td>0</td>\n",
       "      <td>0</td>\n",
       "      <td>1</td>\n",
       "      <td>1</td>\n",
       "    </tr>\n",
       "  </tbody>\n",
       "</table>\n",
       "<p>90 rows × 14 columns</p>\n",
       "</div>"
      ],
      "text/plain": [
       "              city           state  pop2010  black_pop2010  white_pop2010  \\\n",
       "0      Albuquerque      New Mexico   545852          17933         380552   \n",
       "1          Anaheim      California   336265           9347         177237   \n",
       "2        Anchorage          Alaska   291826          16226         192498   \n",
       "3        Arlington           Texas   365438          68792         215588   \n",
       "4          Atlanta         Georgia   420003         226894         161115   \n",
       "..             ...             ...      ...            ...            ...   \n",
       "85          Tucson         Arizona   520116          26000         362649   \n",
       "86           Tulsa        Oklahoma   391906          62164         245309   \n",
       "87  Virginia Beach        Virginia   437994          85935         296670   \n",
       "89         Wichita          Kansas   382368          43807         275080   \n",
       "90   Winston-Salem  North Carolina   229617          79598         117600   \n",
       "\n",
       "    require deescalation  use force continuum or matrix  restrict holds  \\\n",
       "0                      1                              1               0   \n",
       "1                      0                              1               0   \n",
       "2                      1                              1               0   \n",
       "3                      1                              1               0   \n",
       "4                      0                              1               1   \n",
       "..                   ...                            ...             ...   \n",
       "85                     0                              1               0   \n",
       "86                     0                              1               1   \n",
       "87                     0                              0               1   \n",
       "89                     0                              1               0   \n",
       "90                     1                              1               0   \n",
       "\n",
       "    require warning  prohibit shooting at moving vehicles  \\\n",
       "0                 1                                     1   \n",
       "1                 1                                     0   \n",
       "2                 0                                     1   \n",
       "3                 0                                     1   \n",
       "4                 0                                     0   \n",
       "..              ...                                   ...   \n",
       "85                0                                     1   \n",
       "86                1                                     0   \n",
       "87                1                                     0   \n",
       "89                1                                     0   \n",
       "90                1                                     0   \n",
       "\n",
       "    require exhaustion of alternatives  require officer intervention  \\\n",
       "0                                    0                             1   \n",
       "1                                    0                             1   \n",
       "2                                    0                             0   \n",
       "3                                    1                             0   \n",
       "4                                    0                             0   \n",
       "..                                 ...                           ...   \n",
       "85                                   1                             0   \n",
       "86                                   0                             0   \n",
       "87                                   0                             1   \n",
       "89                                   0                             0   \n",
       "90                                   0                             0   \n",
       "\n",
       "    require reporting  deaths2016  \n",
       "0                   0           5  \n",
       "1                   0           6  \n",
       "2                   0           3  \n",
       "3                   1           3  \n",
       "4                   0           4  \n",
       "..                ...         ...  \n",
       "85                  0           6  \n",
       "86                  0           3  \n",
       "87                  1           2  \n",
       "89                  1           2  \n",
       "90                  1           1  \n",
       "\n",
       "[90 rows x 14 columns]"
      ]
     },
     "execution_count": 60,
     "metadata": {},
     "output_type": "execute_result"
    },
    {
     "data": {
      "application/javascript": [
       "\n",
       "            setTimeout(function() {\n",
       "                var nbb_cell_id = 60;\n",
       "                var nbb_unformatted_code = \"cities = pd.read_csv('../policies_by_city.csv')\\ncities = cities[cities.state !='DC']\\ncities\";\n",
       "                var nbb_formatted_code = \"cities = pd.read_csv(\\\"../policies_by_city.csv\\\")\\ncities = cities[cities.state != \\\"DC\\\"]\\ncities\";\n",
       "                var nbb_cells = Jupyter.notebook.get_cells();\n",
       "                for (var i = 0; i < nbb_cells.length; ++i) {\n",
       "                    if (nbb_cells[i].input_prompt_number == nbb_cell_id) {\n",
       "                        if (nbb_cells[i].get_text() == nbb_unformatted_code) {\n",
       "                             nbb_cells[i].set_text(nbb_formatted_code);\n",
       "                        }\n",
       "                        break;\n",
       "                    }\n",
       "                }\n",
       "            }, 500);\n",
       "            "
      ],
      "text/plain": [
       "<IPython.core.display.Javascript object>"
      ]
     },
     "metadata": {},
     "output_type": "display_data"
    }
   ],
   "source": [
    "cities = pd.read_csv('../policies_by_city.csv')\n",
    "cities = cities[cities.state !='DC']\n",
    "cities"
   ]
  },
  {
   "cell_type": "code",
   "execution_count": 61,
   "metadata": {},
   "outputs": [
    {
     "data": {
      "application/javascript": [
       "\n",
       "            setTimeout(function() {\n",
       "                var nbb_cell_id = 61;\n",
       "                var nbb_unformatted_code = \"deaths = deaths_raw[deaths_raw.city.isin(cities.city)]\";\n",
       "                var nbb_formatted_code = \"deaths = deaths_raw[deaths_raw.city.isin(cities.city)]\";\n",
       "                var nbb_cells = Jupyter.notebook.get_cells();\n",
       "                for (var i = 0; i < nbb_cells.length; ++i) {\n",
       "                    if (nbb_cells[i].input_prompt_number == nbb_cell_id) {\n",
       "                        if (nbb_cells[i].get_text() == nbb_unformatted_code) {\n",
       "                             nbb_cells[i].set_text(nbb_formatted_code);\n",
       "                        }\n",
       "                        break;\n",
       "                    }\n",
       "                }\n",
       "            }, 500);\n",
       "            "
      ],
      "text/plain": [
       "<IPython.core.display.Javascript object>"
      ]
     },
     "metadata": {},
     "output_type": "display_data"
    }
   ],
   "source": [
    "deaths = deaths_raw[deaths_raw.city.isin(cities.city)]"
   ]
  },
  {
   "cell_type": "code",
   "execution_count": 63,
   "metadata": {},
   "outputs": [
    {
     "data": {
      "application/javascript": [
       "\n",
       "            setTimeout(function() {\n",
       "                var nbb_cell_id = 63;\n",
       "                var nbb_unformatted_code = \"breakdown = deaths[['city', 'victim_race']]\";\n",
       "                var nbb_formatted_code = \"breakdown = deaths[[\\\"city\\\", \\\"victim_race\\\"]]\";\n",
       "                var nbb_cells = Jupyter.notebook.get_cells();\n",
       "                for (var i = 0; i < nbb_cells.length; ++i) {\n",
       "                    if (nbb_cells[i].input_prompt_number == nbb_cell_id) {\n",
       "                        if (nbb_cells[i].get_text() == nbb_unformatted_code) {\n",
       "                             nbb_cells[i].set_text(nbb_formatted_code);\n",
       "                        }\n",
       "                        break;\n",
       "                    }\n",
       "                }\n",
       "            }, 500);\n",
       "            "
      ],
      "text/plain": [
       "<IPython.core.display.Javascript object>"
      ]
     },
     "metadata": {},
     "output_type": "display_data"
    }
   ],
   "source": [
    "breakdown = deaths[['city', 'victim_race']]"
   ]
  },
  {
   "cell_type": "code",
   "execution_count": null,
   "metadata": {},
   "outputs": [],
   "source": [
    "cities <- cities %>%\n",
    "          mutate(all_deaths = purrr::map_dbl(city, function(i){\n",
    "            if(i %in% rownames(breakdown)) return(sum(breakdown[i,]))\n",
    "            0\n",
    "            }),\n",
    "            black_deaths = purrr::map_dbl(city, function(i){\n",
    "              if(i %in% rownames(breakdown)) return(breakdown[i,'Black'])\n",
    "              0\n",
    "            }),\n",
    "            row=1:nrow(.),\n",
    "            policy_index = purrr::map_dbl(row, function(i){\n",
    "              sum(cities[i,6:13])\n",
    "            }))"
   ]
  },
  {
   "cell_type": "code",
   "execution_count": 70,
   "metadata": {},
   "outputs": [
    {
     "ename": "TypeError",
     "evalue": "unsupported operand type(s) for /: 'str' and 'str'",
     "output_type": "error",
     "traceback": [
      "\u001b[0;31m---------------------------------------------------------------------------\u001b[0m",
      "\u001b[0;31mTypeError\u001b[0m                                 Traceback (most recent call last)",
      "\u001b[0;32m<ipython-input-70-4585eab47303>\u001b[0m in \u001b[0;36m<module>\u001b[0;34m\u001b[0m\n\u001b[1;32m      2\u001b[0m   geom_jitter(aes(x='policy_index', \n\u001b[1;32m      3\u001b[0m                   \u001b[0mgroup\u001b[0m\u001b[0;34m=\u001b[0m\u001b[0;34m'policy_index'\u001b[0m\u001b[0;34m,\u001b[0m\u001b[0;34m\u001b[0m\u001b[0;34m\u001b[0m\u001b[0m\n\u001b[0;32m----> 4\u001b[0;31m                   y='all_deaths'/'pop2010'),\n\u001b[0m\u001b[1;32m      5\u001b[0m               width=0.2) \n",
      "\u001b[0;31mTypeError\u001b[0m: unsupported operand type(s) for /: 'str' and 'str'"
     ]
    },
    {
     "data": {
      "application/javascript": [
       "\n",
       "            setTimeout(function() {\n",
       "                var nbb_cell_id = 70;\n",
       "                var nbb_unformatted_code = \"ggplot(cities) + \\\\\\n  geom_jitter(aes(x='policy_index', \\n                  group='policy_index',\\n                  y='all_deaths'/'pop2010'),\\n              width=0.2) \";\n",
       "                var nbb_formatted_code = \"ggplot(cities) + geom_jitter(\\n    aes(x=\\\"policy_index\\\", group=\\\"policy_index\\\", y=\\\"all_deaths\\\" / \\\"pop2010\\\"), width=0.2\\n)\";\n",
       "                var nbb_cells = Jupyter.notebook.get_cells();\n",
       "                for (var i = 0; i < nbb_cells.length; ++i) {\n",
       "                    if (nbb_cells[i].input_prompt_number == nbb_cell_id) {\n",
       "                        if (nbb_cells[i].get_text() == nbb_unformatted_code) {\n",
       "                             nbb_cells[i].set_text(nbb_formatted_code);\n",
       "                        }\n",
       "                        break;\n",
       "                    }\n",
       "                }\n",
       "            }, 500);\n",
       "            "
      ],
      "text/plain": [
       "<IPython.core.display.Javascript object>"
      ]
     },
     "metadata": {},
     "output_type": "display_data"
    }
   ],
   "source": [
    "ggplot(cities) +\n",
    "  geom_jitter(aes(x=policy_index, \n",
    "                  group=policy_index,\n",
    "                  y=all_deaths/pop2010),\n",
    "              width=0.2) +\n",
    "  scale_x_continuous('number of 8 Can\\'t Wait policies enacted')+\n",
    "  scale_y_continuous('per capita deaths by law enforcement')+\n",
    "  theme_classic() +\n",
    "  guides(fill=FALSE)"
   ]
  },
  {
   "cell_type": "code",
   "execution_count": null,
   "metadata": {},
   "outputs": [],
   "source": [
    "sns."
   ]
  }
 ],
 "metadata": {
  "kernelspec": {
   "display_name": "Python [conda env:experiments]",
   "language": "python",
   "name": "conda-env-experiments-py"
  },
  "language_info": {
   "codemirror_mode": {
    "name": "ipython",
    "version": 3
   },
   "file_extension": ".py",
   "mimetype": "text/x-python",
   "name": "python",
   "nbconvert_exporter": "python",
   "pygments_lexer": "ipython3",
   "version": "3.7.7"
  }
 },
 "nbformat": 4,
 "nbformat_minor": 4
}
